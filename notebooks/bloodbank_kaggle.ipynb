{
 "cells": [
  {
   "cell_type": "code",
   "execution_count": 7,
   "metadata": {
    "collapsed": true
   },
   "outputs": [],
   "source": [
    "# import kaggle\n",
    "from kaggle.api.kaggle_api_extended import KaggleApi\n",
    "api = None\n",
    "# authenticate kaggle API\n",
    "try:\n",
    "    api = KaggleApi()\n",
    "    api.authenticate()\n",
    "except:\n",
    "    print('auth failed')"
   ]
  },
  {
   "cell_type": "code",
   "execution_count": 8,
   "outputs": [
    {
     "name": "stdout",
     "output_type": "stream",
     "text": [
      "downloaded\n"
     ]
    }
   ],
   "source": [
    "# download required datasets dataset\n",
    "api.dataset_download_files('carlosaguayo/usa-hospitals', \\\n",
    "                           'Hospitals.csv')\n",
    "api.dataset_download_files('cms/hospital-general-information', \\\n",
    "                           'HospInfo.csv')\n",
    "api.dataset_download_files('center-for-medicare-and-medicaid/hospital-ratings', \\\n",
    "                           'Hospital General Information.csv')\n",
    "print('downloaded')"
   ],
   "metadata": {
    "collapsed": false,
    "pycharm": {
     "name": "#%%\n"
    }
   }
  },
  {
   "cell_type": "code",
   "execution_count": 9,
   "outputs": [
    {
     "name": "stdout",
     "output_type": "stream",
     "text": [
      ".csv files saved\n"
     ]
    }
   ],
   "source": [
    "# unzip data\n",
    "from zipfile import ZipFile\n",
    "zf1 = ZipFile('Hospitals.csv/usa-hospitals.zip')\n",
    "zf2 = ZipFile('HospInfo.csv/hospital-general-information.zip')\n",
    "zf3 = ZipFile('Hospital General Information.csv/hospital-ratings.zip')\n",
    "zf1.extractall('data/');zf2.extractall('data/');zf3.extractall('data/')\n",
    "zf1.close();zf2.close();zf3.close()\n",
    "print('.csv files saved')"
   ],
   "metadata": {
    "collapsed": false,
    "pycharm": {
     "name": "#%%\n"
    }
   }
  }
 ],
 "metadata": {
  "kernelspec": {
   "name": "conda-root-py",
   "language": "python",
   "display_name": "Python [conda env:root]"
  },
  "language_info": {
   "codemirror_mode": {
    "name": "ipython",
    "version": 2
   },
   "file_extension": ".py",
   "mimetype": "text/x-python",
   "name": "python",
   "nbconvert_exporter": "python",
   "pygments_lexer": "ipython2",
   "version": "2.7.6"
  }
 },
 "nbformat": 4,
 "nbformat_minor": 0
}